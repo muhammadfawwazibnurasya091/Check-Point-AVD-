{
  "nbformat": 4,
  "nbformat_minor": 0,
  "metadata": {
    "colab": {
      "provenance": []
    },
    "kernelspec": {
      "name": "python3",
      "display_name": "Python 3"
    },
    "language_info": {
      "name": "python"
    }
  },
  "cells": [
    {
      "cell_type": "markdown",
      "source": [
        "#BUSINESS UNDERSTANDING"
      ],
      "metadata": {
        "id": "nDO624IvdM_3"
      }
    },
    {
      "cell_type": "markdown",
      "source": [
        "#Business Objective\n"
      ],
      "metadata": {
        "id": "ud8S2j8wYtct"
      }
    },
    {
      "cell_type": "markdown",
      "source": [
        "Tujuan utama proyek ini adalah untuk memahami dan menganalisis pendapatan proplayer Valorant dari tournament esports untuk memahami faktor - faktor yang mempengaruhi pendapatan dari para proplaey Valorant, serta memberikan wawasan kepada tim manajemen, sponsor, dan organisasi esports tentang potensi investasi dan strategi pengembangan para proplayer."
      ],
      "metadata": {
        "id": "QhQqCURHZWVl"
      }
    },
    {
      "cell_type": "markdown",
      "source": [
        "#Asses Situation"
      ],
      "metadata": {
        "id": "2hcIYsfOZcg1"
      }
    },
    {
      "cell_type": "markdown",
      "source": [
        "Esport, khususnya Valorant telah menjadi industri yang berkembang pesat dengan banyak turnamen yang menawarkan hadiah yang terbilang cukup besar, Proplayer yang berprestasi juga akan mendapatkan penghasilan yang signifikan dari turnamen yang di ikuti. Dengan analisis yang tepat, organisasi atau manajemen squad dapat mengidentifikasi pemain yang menjanjikan dan merumuskan strategi pemasaran yang lebih baik, dan meningkatkan ketertarikan kepada para pihak sponsorship."
      ],
      "metadata": {
        "id": "Kv_g9fB4Zh23"
      }
    },
    {
      "cell_type": "markdown",
      "source": [
        "#Data Mining Goals\n"
      ],
      "metadata": {
        "id": "pxLQFvXea6EF"
      }
    },
    {
      "cell_type": "markdown",
      "source": [
        "Mengidentifikasi faktor - faktor yang berkontribusi terhadap pendapatan pemain dari turnament, Menganalisi tren pendapatan dari waktu ke waktu dan perbandingan antar pemain atau tim, Mengelompokkan pemain berdasarkan pendapatan dan kinerja untuk memahami segmen pasar yang berbeda, dan Memprediksi pendapatan masa depan berdasarkan data historis dan faktor - faktor yang relevan."
      ],
      "metadata": {
        "id": "ztyJ-pk0bExU"
      }
    },
    {
      "cell_type": "markdown",
      "source": [
        "#Project Plan"
      ],
      "metadata": {
        "id": "RSlzOiUfbl-s"
      }
    },
    {
      "cell_type": "markdown",
      "source": [
        "1. Pengumpulan Data :\n",
        "   Mengumpulkan data dari Turnament Valorant, termasuk informasi tentang pemain, tim, hadiah yang didapatkan, dan hasil pertandingan\n",
        "\n",
        "2. Pembersihan dan Persiapan Data :\n",
        "   Mengubah format data agar sesuai untuk dianalisis\n",
        "\n",
        "3. Melakukan Analisis:\n",
        "   Melakukan analisis Deskriptif untuk memahami distribusi pendapatan dan faktor - faktor yang mempengaruhi\n",
        "\n",
        "4. Modeling:\n",
        "   Membangun model prediktif untuk memperkirakan pendapatan berdasarkan variabel yang relevan\n",
        "\n",
        "5. Evaluasi:\n",
        "   Mengevaluasi hasil modeling dan interpretasi temuan untuk memberikan wawasan yang dapat ditindak lanjuti\n",
        "\n",
        "6. Implementasi:\n",
        "   Merencanakan tindak lanjut untuk memantau implementasi rekomendasi dan melakukan analisis lebih lanjut jika diperlukan"
      ],
      "metadata": {
        "id": "oZNKvNALboaa"
      }
    }
  ]
}